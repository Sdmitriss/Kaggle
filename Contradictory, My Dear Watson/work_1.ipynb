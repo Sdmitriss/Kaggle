{
 "cells": [
  {
   "cell_type": "markdown",
   "id": "09b6f6a5-cb2b-4ae0-8966-2868d303d6a8",
   "metadata": {},
   "source": [
    "### 1. Imports"
   ]
  },
  {
   "cell_type": "code",
   "execution_count": 30,
   "id": "cdd64314-f307-4912-afdc-b56d6bb888f2",
   "metadata": {},
   "outputs": [],
   "source": [
    "import warnings\n",
    "\n",
    "import numpy as np \n",
    "import pandas as pd \n",
    "\n",
    "import tensorflow as tf\n",
    "from tensorflow import keras\n",
    "from tensorflow.keras import layers\n",
    "\n",
    "from transformers import logging\n",
    "logging.set_verbosity_error()\n",
    "\n",
    "import seaborn as sns\n",
    "import matplotlib.pyplot as plt\n",
    "from tensorflow.keras.optimizers import Adam\n",
    "import os\n",
    "import importlib.metadata as mt\n",
    "\n",
    "from sklearn.model_selection import train_test_split\n"
   ]
  },
  {
   "cell_type": "code",
   "execution_count": 31,
   "id": "b78849b4-2494-4eb7-9829-5181b60681bc",
   "metadata": {},
   "outputs": [],
   "source": [
    "RANDOM_STATE = 50"
   ]
  },
  {
   "cell_type": "code",
   "execution_count": 32,
   "id": "2d3bc56b-30d8-4abe-888a-232745ea0cf6",
   "metadata": {},
   "outputs": [],
   "source": [
    "from transformers import BertTokenizer, TFBertModel"
   ]
  },
  {
   "cell_type": "code",
   "execution_count": 33,
   "id": "f71b97ec-ae7b-4957-bd0b-9fd7c626f929",
   "metadata": {},
   "outputs": [
    {
     "name": "stdout",
     "output_type": "stream",
     "text": [
      "TensorFlow version: 2.18.0-dev20240828\n",
      "keras_nlp version: 0.0.2\n",
      "Python 3.12.5\n"
     ]
    }
   ],
   "source": [
    "print(\"TensorFlow version:\", tf.__version__)\n",
    "print('keras_nlp version:', mt.version('keras_nlp'))\n",
    "!python --version"
   ]
  },
  {
   "cell_type": "markdown",
   "id": "74e0b052-45ec-47c5-9150-4e156f5366e6",
   "metadata": {},
   "source": [
    "### 2.   Initialize the TPU or GPU and creat path_csv"
   ]
  },
  {
   "cell_type": "code",
   "execution_count": 34,
   "id": "5d012b6f-14ac-4fa7-863e-d526aa76f44a",
   "metadata": {},
   "outputs": [
    {
     "name": "stdout",
     "output_type": "stream",
     "text": [
      "C:\\Users\\dmitr\\OneDrive\\Рабочий стол\\Kaggle_projects\\Contradictory, My Dear Watson\n"
     ]
    },
    {
     "data": {
      "text/plain": [
       "['C:\\\\Users\\\\dmitr\\\\OneDrive\\\\Рабочий стол\\\\Kaggle_projects\\\\Contradictory, My Dear Watson\\\\Data\\\\contradictory-my-dear-watson\\\\sample_submission.csv',\n",
       " 'C:\\\\Users\\\\dmitr\\\\OneDrive\\\\Рабочий стол\\\\Kaggle_projects\\\\Contradictory, My Dear Watson\\\\Data\\\\contradictory-my-dear-watson\\\\test.csv',\n",
       " 'C:\\\\Users\\\\dmitr\\\\OneDrive\\\\Рабочий стол\\\\Kaggle_projects\\\\Contradictory, My Dear Watson\\\\Data\\\\contradictory-my-dear-watson\\\\train.csv']"
      ]
     },
     "execution_count": 34,
     "metadata": {},
     "output_type": "execute_result"
    }
   ],
   "source": [
    "# Let's create an array path_csv with paths to CSV files containing the data.\n",
    "current_directory = os.getcwd()\n",
    "print(current_directory)\n",
    "\n",
    "path_csv =[]\n",
    "for dirname, _, filenames in os.walk(current_directory):\n",
    "      for filename in filenames:\n",
    "         if filename.lower().endswith('.csv') and 'Data' in dirname :\n",
    "             path_csv.append(os.path.join(dirname, filename))\n",
    "path_csv"
   ]
  },
  {
   "cell_type": "code",
   "execution_count": 35,
   "id": "bcae5695-98aa-4ae4-b59e-99cb375d1edd",
   "metadata": {},
   "outputs": [
    {
     "name": "stdout",
     "output_type": "stream",
     "text": [
      "INFO:tensorflow:Using MirroredStrategy with devices ('/job:localhost/replica:0/task:0/device:CPU:0',)\n",
      "Number of replicas: 1\n",
      "[PhysicalDevice(name='/physical_device:CPU:0', device_type='CPU')]\n"
     ]
    }
   ],
   "source": [
    "# Initialize the TPU. TPUClusterResolver automatically determines the TPU configuration.\n",
    "try:\n",
    "    tpu = tf.distribute.cluster_resolver.TPUClusterResolver()\n",
    "    tf.config.experimental_connect_to_cluster(tpu)\n",
    "    tf.tpu.experimental.initialize_tpu_system(tpu)\n",
    "    strategy = tf.distribute.experimental.TPUStrategy(tpu)\n",
    "    print(tf.config.list_physical_devices())\n",
    "    \n",
    "# If the TPU is not available, MirroredStrategy is used for distributed training on multiple \n",
    "# GPUs (or on CPU if GPUs are unavailable).\"   \n",
    "except ValueError:\n",
    "    # strategy = tf.distribute.get_strategy() # for CPU and single GPU\n",
    "    strategy = tf.distribute.MirroredStrategy() #  for cpu andfor multiple GPU\n",
    "    print('Number of replicas:', strategy.num_replicas_in_sync)\n",
    "    print(tf.config.list_physical_devices())\n",
    "    "
   ]
  },
  {
   "cell_type": "code",
   "execution_count": 36,
   "id": "8fc49ccf-8479-4a0c-b892-2ec008c4a367",
   "metadata": {},
   "outputs": [
    {
     "data": {
      "text/plain": [
       "16"
      ]
     },
     "execution_count": 36,
     "metadata": {},
     "output_type": "execute_result"
    }
   ],
   "source": [
    "BATCH_SIZE = 16 * strategy.num_replicas_in_sync\n",
    "BATCH_SIZE"
   ]
  },
  {
   "cell_type": "markdown",
   "id": "28e28479-0424-4163-810d-ac385dc2f8aa",
   "metadata": {},
   "source": [
    "## 3. Data Loading"
   ]
  },
  {
   "cell_type": "code",
   "execution_count": 40,
   "id": "2ae5e2f8-0df1-4856-869c-a5a2151b9fad",
   "metadata": {},
   "outputs": [
    {
     "data": {
      "text/plain": [
       "['C:\\\\Users\\\\dmitr\\\\OneDrive\\\\Рабочий стол\\\\Kaggle_projects\\\\Contradictory, My Dear Watson\\\\Data\\\\contradictory-my-dear-watson\\\\sample_submission.csv',\n",
       " 'C:\\\\Users\\\\dmitr\\\\OneDrive\\\\Рабочий стол\\\\Kaggle_projects\\\\Contradictory, My Dear Watson\\\\Data\\\\contradictory-my-dear-watson\\\\test.csv',\n",
       " 'C:\\\\Users\\\\dmitr\\\\OneDrive\\\\Рабочий стол\\\\Kaggle_projects\\\\Contradictory, My Dear Watson\\\\Data\\\\contradictory-my-dear-watson\\\\train.csv']"
      ]
     },
     "execution_count": 40,
     "metadata": {},
     "output_type": "execute_result"
    }
   ],
   "source": [
    "path_csv"
   ]
  },
  {
   "cell_type": "code",
   "execution_count": 9,
   "id": "2e2b22fc-2f70-42b6-8f24-aac5aebcee47",
   "metadata": {},
   "outputs": [],
   "source": [
    "# Attention: make sure the path is correct!!!\n",
    "df_train = pd.read_csv(path_csv[2])  #  data_train\n",
    "df_test = pd.read_csv(path_csv[1])   #  data_test\n",
    "df_example =pd.read_csv(path_csv[0])  #  predict example"
   ]
  },
  {
   "cell_type": "markdown",
   "id": "04eff1e0-d0cf-4f84-a793-744bb235143c",
   "metadata": {},
   "source": [
    "Let's review and analyze the loaded data.\n"
   ]
  },
  {
   "cell_type": "code",
   "execution_count": 10,
   "id": "297b8415-1eec-41ec-9201-a51ecd54640d",
   "metadata": {},
   "outputs": [
    {
     "data": {
      "text/html": [
       "<div>\n",
       "<style scoped>\n",
       "    .dataframe tbody tr th:only-of-type {\n",
       "        vertical-align: middle;\n",
       "    }\n",
       "\n",
       "    .dataframe tbody tr th {\n",
       "        vertical-align: top;\n",
       "    }\n",
       "\n",
       "    .dataframe thead th {\n",
       "        text-align: right;\n",
       "    }\n",
       "</style>\n",
       "<table border=\"1\" class=\"dataframe\">\n",
       "  <thead>\n",
       "    <tr style=\"text-align: right;\">\n",
       "      <th></th>\n",
       "      <th>id</th>\n",
       "      <th>premise</th>\n",
       "      <th>hypothesis</th>\n",
       "      <th>lang_abv</th>\n",
       "      <th>language</th>\n",
       "      <th>label</th>\n",
       "    </tr>\n",
       "  </thead>\n",
       "  <tbody>\n",
       "    <tr>\n",
       "      <th>0</th>\n",
       "      <td>5130fd2cb5</td>\n",
       "      <td>and these comments were considered in formulat...</td>\n",
       "      <td>The rules developed in the interim were put to...</td>\n",
       "      <td>en</td>\n",
       "      <td>English</td>\n",
       "      <td>0</td>\n",
       "    </tr>\n",
       "    <tr>\n",
       "      <th>1</th>\n",
       "      <td>5b72532a0b</td>\n",
       "      <td>These are issues that we wrestle with in pract...</td>\n",
       "      <td>Practice groups are not permitted to work on t...</td>\n",
       "      <td>en</td>\n",
       "      <td>English</td>\n",
       "      <td>2</td>\n",
       "    </tr>\n",
       "    <tr>\n",
       "      <th>2</th>\n",
       "      <td>3931fbe82a</td>\n",
       "      <td>Des petites choses comme celles-là font une di...</td>\n",
       "      <td>J'essayais d'accomplir quelque chose.</td>\n",
       "      <td>fr</td>\n",
       "      <td>French</td>\n",
       "      <td>0</td>\n",
       "    </tr>\n",
       "    <tr>\n",
       "      <th>3</th>\n",
       "      <td>5622f0c60b</td>\n",
       "      <td>you know they can't really defend themselves l...</td>\n",
       "      <td>They can't defend themselves because of their ...</td>\n",
       "      <td>en</td>\n",
       "      <td>English</td>\n",
       "      <td>0</td>\n",
       "    </tr>\n",
       "    <tr>\n",
       "      <th>4</th>\n",
       "      <td>86aaa48b45</td>\n",
       "      <td>ในการเล่นบทบาทสมมุติก็เช่นกัน โอกาสที่จะได้แสด...</td>\n",
       "      <td>เด็กสามารถเห็นได้ว่าชาติพันธุ์แตกต่างกันอย่างไร</td>\n",
       "      <td>th</td>\n",
       "      <td>Thai</td>\n",
       "      <td>1</td>\n",
       "    </tr>\n",
       "  </tbody>\n",
       "</table>\n",
       "</div>"
      ],
      "text/plain": [
       "           id                                            premise  \\\n",
       "0  5130fd2cb5  and these comments were considered in formulat...   \n",
       "1  5b72532a0b  These are issues that we wrestle with in pract...   \n",
       "2  3931fbe82a  Des petites choses comme celles-là font une di...   \n",
       "3  5622f0c60b  you know they can't really defend themselves l...   \n",
       "4  86aaa48b45  ในการเล่นบทบาทสมมุติก็เช่นกัน โอกาสที่จะได้แสด...   \n",
       "\n",
       "                                          hypothesis lang_abv language  label  \n",
       "0  The rules developed in the interim were put to...       en  English      0  \n",
       "1  Practice groups are not permitted to work on t...       en  English      2  \n",
       "2              J'essayais d'accomplir quelque chose.       fr   French      0  \n",
       "3  They can't defend themselves because of their ...       en  English      0  \n",
       "4    เด็กสามารถเห็นได้ว่าชาติพันธุ์แตกต่างกันอย่างไร       th     Thai      1  "
      ]
     },
     "execution_count": 10,
     "metadata": {},
     "output_type": "execute_result"
    }
   ],
   "source": [
    "df_train.head()"
   ]
  },
  {
   "cell_type": "code",
   "execution_count": 11,
   "id": "be7992d8-c6a6-411d-a827-82dd3eddb963",
   "metadata": {},
   "outputs": [
    {
     "name": "stdout",
     "output_type": "stream",
     "text": [
      "<class 'pandas.core.frame.DataFrame'>\n",
      "RangeIndex: 12120 entries, 0 to 12119\n",
      "Data columns (total 6 columns):\n",
      " #   Column      Non-Null Count  Dtype \n",
      "---  ------      --------------  ----- \n",
      " 0   id          12120 non-null  object\n",
      " 1   premise     12120 non-null  object\n",
      " 2   hypothesis  12120 non-null  object\n",
      " 3   lang_abv    12120 non-null  object\n",
      " 4   language    12120 non-null  object\n",
      " 5   label       12120 non-null  int64 \n",
      "dtypes: int64(1), object(5)\n",
      "memory usage: 568.3+ KB\n"
     ]
    }
   ],
   "source": [
    "df_train.info()"
   ]
  },
  {
   "cell_type": "code",
   "execution_count": 12,
   "id": "d6842ae5-8c41-42be-aa39-5ddfb0c009f9",
   "metadata": {},
   "outputs": [],
   "source": [
    "RESULT_DICT = {\n",
    "    0 : \"entailment\",\n",
    "    1 : \"neutral\",\n",
    "    2 : \"contradiction\"\n",
    "}"
   ]
  },
  {
   "cell_type": "code",
   "execution_count": 13,
   "id": "2c69348b-2dc0-4b91-bbaf-6a05d70764e9",
   "metadata": {},
   "outputs": [
    {
     "data": {
      "text/html": [
       "<div>\n",
       "<style scoped>\n",
       "    .dataframe tbody tr th:only-of-type {\n",
       "        vertical-align: middle;\n",
       "    }\n",
       "\n",
       "    .dataframe tbody tr th {\n",
       "        vertical-align: top;\n",
       "    }\n",
       "\n",
       "    .dataframe thead th {\n",
       "        text-align: right;\n",
       "    }\n",
       "</style>\n",
       "<table border=\"1\" class=\"dataframe\">\n",
       "  <thead>\n",
       "    <tr style=\"text-align: right;\">\n",
       "      <th></th>\n",
       "      <th>id</th>\n",
       "      <th>premise</th>\n",
       "      <th>hypothesis</th>\n",
       "      <th>lang_abv</th>\n",
       "      <th>language</th>\n",
       "    </tr>\n",
       "  </thead>\n",
       "  <tbody>\n",
       "    <tr>\n",
       "      <th>0</th>\n",
       "      <td>c6d58c3f69</td>\n",
       "      <td>بکس، کیسی، راہیل، یسعیاہ، کیلی، کیلی، اور کولم...</td>\n",
       "      <td>کیسی کے لئے کوئی یادگار نہیں ہوگا, کولمین ہائی...</td>\n",
       "      <td>ur</td>\n",
       "      <td>Urdu</td>\n",
       "    </tr>\n",
       "    <tr>\n",
       "      <th>1</th>\n",
       "      <td>cefcc82292</td>\n",
       "      <td>هذا هو ما تم نصحنا به.</td>\n",
       "      <td>عندما يتم إخبارهم بما يجب عليهم فعله ، فشلت ال...</td>\n",
       "      <td>ar</td>\n",
       "      <td>Arabic</td>\n",
       "    </tr>\n",
       "    <tr>\n",
       "      <th>2</th>\n",
       "      <td>e98005252c</td>\n",
       "      <td>et cela est en grande partie dû au fait que le...</td>\n",
       "      <td>Les mères se droguent.</td>\n",
       "      <td>fr</td>\n",
       "      <td>French</td>\n",
       "    </tr>\n",
       "    <tr>\n",
       "      <th>3</th>\n",
       "      <td>58518c10ba</td>\n",
       "      <td>与城市及其他公民及社区组织代表就IMA的艺术发展进行对话&amp;amp</td>\n",
       "      <td>IMA与其他组织合作，因为它们都依靠共享资金。</td>\n",
       "      <td>zh</td>\n",
       "      <td>Chinese</td>\n",
       "    </tr>\n",
       "    <tr>\n",
       "      <th>4</th>\n",
       "      <td>c32b0d16df</td>\n",
       "      <td>Она все еще была там.</td>\n",
       "      <td>Мы думали, что она ушла, однако, она осталась.</td>\n",
       "      <td>ru</td>\n",
       "      <td>Russian</td>\n",
       "    </tr>\n",
       "  </tbody>\n",
       "</table>\n",
       "</div>"
      ],
      "text/plain": [
       "           id                                            premise  \\\n",
       "0  c6d58c3f69  بکس، کیسی، راہیل، یسعیاہ، کیلی، کیلی، اور کولم...   \n",
       "1  cefcc82292                             هذا هو ما تم نصحنا به.   \n",
       "2  e98005252c  et cela est en grande partie dû au fait que le...   \n",
       "3  58518c10ba                   与城市及其他公民及社区组织代表就IMA的艺术发展进行对话&amp   \n",
       "4  c32b0d16df                              Она все еще была там.   \n",
       "\n",
       "                                          hypothesis lang_abv language  \n",
       "0  کیسی کے لئے کوئی یادگار نہیں ہوگا, کولمین ہائی...       ur     Urdu  \n",
       "1  عندما يتم إخبارهم بما يجب عليهم فعله ، فشلت ال...       ar   Arabic  \n",
       "2                             Les mères se droguent.       fr   French  \n",
       "3                            IMA与其他组织合作，因为它们都依靠共享资金。       zh  Chinese  \n",
       "4     Мы думали, что она ушла, однако, она осталась.       ru  Russian  "
      ]
     },
     "execution_count": 13,
     "metadata": {},
     "output_type": "execute_result"
    }
   ],
   "source": [
    "df_test.head()"
   ]
  },
  {
   "cell_type": "code",
   "execution_count": 14,
   "id": "fefa2cc6-f7b0-4c2c-97ee-94f64775ff76",
   "metadata": {},
   "outputs": [
    {
     "name": "stdout",
     "output_type": "stream",
     "text": [
      "<class 'pandas.core.frame.DataFrame'>\n",
      "RangeIndex: 5195 entries, 0 to 5194\n",
      "Data columns (total 5 columns):\n",
      " #   Column      Non-Null Count  Dtype \n",
      "---  ------      --------------  ----- \n",
      " 0   id          5195 non-null   object\n",
      " 1   premise     5195 non-null   object\n",
      " 2   hypothesis  5195 non-null   object\n",
      " 3   lang_abv    5195 non-null   object\n",
      " 4   language    5195 non-null   object\n",
      "dtypes: object(5)\n",
      "memory usage: 203.1+ KB\n"
     ]
    }
   ],
   "source": [
    "df_test.info()"
   ]
  },
  {
   "cell_type": "code",
   "execution_count": 15,
   "id": "824c3bd4-a90c-4648-ab08-57457745fe81",
   "metadata": {},
   "outputs": [
    {
     "data": {
      "text/plain": [
       "['3880', '4064', '4176']"
      ]
     },
     "execution_count": 15,
     "metadata": {},
     "output_type": "execute_result"
    }
   ],
   "source": [
    "[f'{x}' for x in  df_train['label'].value_counts().sort_values()]"
   ]
  },
  {
   "cell_type": "code",
   "execution_count": 16,
   "id": "6b79cfc7-1ad7-4c9b-9284-cb49e55882f8",
   "metadata": {},
   "outputs": [
    {
     "data": {
      "text/plain": [
       "15"
      ]
     },
     "execution_count": 16,
     "metadata": {},
     "output_type": "execute_result"
    }
   ],
   "source": [
    " df_train['language'].unique().shape[0]"
   ]
  },
  {
   "cell_type": "code",
   "execution_count": 17,
   "id": "41d6500c-7447-48a7-b942-aa39630232f5",
   "metadata": {},
   "outputs": [],
   "source": [
    "def barh_col (data : pd.Series , dict : dict=None):\n",
    "    if dict is None:\n",
    "       dict={ y:x for y, x in enumerate(data.value_counts().sort_values().index)}\n",
    "    if data.unique().shape[0] <=6:\n",
    "        size=4\n",
    "    else:\n",
    "        size=6\n",
    "\n",
    "    fig, ax = plt.subplots(figsize=(12, size))\n",
    "\n",
    "    ax =  data.value_counts().sort_values().plot(kind='barh',  color=['skyblue', 'lightgreen', 'lightcoral'], edgecolor='black' )\n",
    "# ax.grid(True)\n",
    "\n",
    "    ax.set_yticklabels( [ dict.get(x,x) for x in ax.get_yticks()])\n",
    "    ax.set_ylabel('Labels', fontsize=14)\n",
    "    ax.tick_params(axis='y', labelrotation=45)\n",
    "\n",
    "    ax.set_xlabel('Values', fontsize=14, labelpad=10) \n",
    "\n",
    "    ax.set_title('Target Labels Distribution', fontsize=16, pad=20)\n",
    "\n",
    "    ax.spines['top'].set_visible(False)\n",
    "    ax.spines['right'].set_visible(False)\n",
    "\n",
    "    container = ax.containers[0]\n",
    "    labels= [f'{x}' for x in  data.value_counts().sort_values()]\n",
    "    ax.bar_label(container, labels=labels, fontsize=12, padding=5, color='black')\n",
    "\n",
    "    plt.tight_layout()\n",
    "    plt.show()"
   ]
  },
  {
   "cell_type": "code",
   "execution_count": 17,
   "id": "c014fbe9-defb-4c64-9862-90dc3ecb4a99",
   "metadata": {},
   "outputs": [
    {
     "data": {
      "image/png": "[encoded data removed]",
      "text/plain": [
       "<Figure size 1200x400 with 1 Axes>"
      ]
     },
     "metadata": {},
     "output_type": "display_data"
    }
   ],
   "source": [
    "barh_col(df_train['label'],RESULT_DICT)"
   ]
  },
  {
   "cell_type": "code",
   "execution_count": null,
   "id": "88bbd936-f846-4abf-a737-13ffcc7cc543",
   "metadata": {},
   "outputs": [],
   "source": []
  },
  {
   "cell_type": "code",
   "execution_count": null,
   "id": "23a4eae1-039c-4168-baf3-9721e9f612c5",
   "metadata": {},
   "outputs": [],
   "source": []
  },
  {
   "cell_type": "code",
   "execution_count": 18,
   "id": "dce00b1c-e8f7-4ffa-9629-44b3f14c0cb8",
   "metadata": {},
   "outputs": [
    {
     "data": {
      "image/png": "[encoded data removed]",
      "text/plain": [
       "<Figure size 1200x600 with 1 Axes>"
      ]
     },
     "metadata": {},
     "output_type": "display_data"
    }
   ],
   "source": [
    "barh_col(df_train['language'])"
   ]
  },
  {
   "cell_type": "code",
   "execution_count": 18,
   "id": "0ae9414c-e7dd-40e5-8153-2350b6b1d70f",
   "metadata": {},
   "outputs": [
    {
     "data": {
      "image/png": "[encoded data removed]",
      "text/plain": [
       "<Figure size 1200x600 with 1 Axes>"
      ]
     },
     "metadata": {},
     "output_type": "display_data"
    }
   ],
   "source": [
    "barh_col(df_test['language'])"
   ]
  },
  {
   "cell_type": "code",
   "execution_count": 20,
   "id": "78e22e18-910d-4980-954d-80f5a2a81eb3",
   "metadata": {},
   "outputs": [
    {
     "data": {
      "text/plain": [
       "language\n",
       "English       2945\n",
       "Spanish        175\n",
       "Russian        172\n",
       "Swahili        172\n",
       "Urdu           168\n",
       "Greek          168\n",
       "Turkish        167\n",
       "Thai           164\n",
       "Arabic         159\n",
       "French         157\n",
       "German         152\n",
       "Chinese        151\n",
       "Hindi          150\n",
       "Bulgarian      150\n",
       "Vietnamese     145\n",
       "Name: count, dtype: int64"
      ]
     },
     "execution_count": 20,
     "metadata": {},
     "output_type": "execute_result"
    }
   ],
   "source": [
    "df_test['language'].value_counts()"
   ]
  },
  {
   "cell_type": "markdown",
   "id": "3afc52a8-0c11-40d2-bcc7-e2bee6c1431a",
   "metadata": {},
   "source": [
    "### Data Spliting"
   ]
  },
  {
   "cell_type": "code",
   "execution_count": 20,
   "id": "d7fbf862-a054-4a11-8dd9-bed420c4b368",
   "metadata": {},
   "outputs": [],
   "source": [
    "X = df_train.drop('label', axis=1)\n",
    "y = df_train.label"
   ]
  },
  {
   "cell_type": "code",
   "execution_count": 21,
   "id": "34e95c55-fe4d-41b9-9d68-e0880b030809",
   "metadata": {},
   "outputs": [],
   "source": [
    "X_train, X_valid, y_train,  y_valid = train_test_split(X, y, random_state=RANDOM_STATE, test_size=0.2, stratify=y)"
   ]
  },
  {
   "cell_type": "markdown",
   "id": "0c8edd84-5d3b-4c93-85bb-a5cbda1dd010",
   "metadata": {},
   "source": [
    "### 4. Data Encoding "
   ]
  },
  {
   "cell_type": "code",
   "execution_count": 22,
   "id": "b56d428b-18c0-404c-8055-6c5e85cc6e3a",
   "metadata": {},
   "outputs": [],
   "source": [
    "model_name = 'bert-base-multilingual-cased'\n",
    "tokenizer = BertTokenizer.from_pretrained(model_name,clean_up_tokenization_spaces=True)"
   ]
  },
  {
   "cell_type": "code",
   "execution_count": 23,
   "id": "0fdc2930-bfa1-4b0c-aa37-082571881d26",
   "metadata": {},
   "outputs": [],
   "source": [
    "def length_max_token(data):\n",
    "    row = (data['premise']+data['hypothesis']).str.split().apply(len).idxmax()\n",
    "    return len(tokenizer.encode_plus(data['premise'][row], data['hypothesis'][row]).input_ids)"
   ]
  },
  {
   "cell_type": "code",
   "execution_count": 24,
   "id": "e97b0b42-0523-4e75-bded-52e4d8acf7bd",
   "metadata": {},
   "outputs": [
    {
     "data": {
      "text/plain": [
       "259"
      ]
     },
     "execution_count": 24,
     "metadata": {},
     "output_type": "execute_result"
    }
   ],
   "source": [
    "max_length = length_max_token(df_train) if length_max_token(df_train)> length_max_token(df_test) else length_max_token(df_test)\n",
    "max_length"
   ]
  },
  {
   "cell_type": "code",
   "execution_count": 25,
   "id": "8d3b5816-6b90-4e43-b0ca-20beeb47502c",
   "metadata": {},
   "outputs": [],
   "source": [
    "def bert_encoding(data,max_length=max_length):\n",
    "    texts = zip(data.premise,data.hypothesis)\n",
    "    encoding = tokenizer.batch_encode_plus(\n",
    "    texts,              \n",
    "    add_special_tokens=True,         # Добавить специальные токены ([CLS] и [SEP])\n",
    "    max_length=max_length,           # Максимальная длина последовательности\n",
    "    padding='max_length',            # Заполнить до max_length\n",
    "    truncation=True,                 # Обрезать, если длина превышает max_length\n",
    "    return_attention_mask=True,      # Вернуть маску внимания (attention mask)\n",
    "    return_token_type_ids=True,      # Вернуть типы токенов (token type ids)\n",
    "    return_tensors='tf',             # Вернуть тензоры tf\n",
    "    return_overflowing_tokens=False  # Не возвращать избыточные токены    \n",
    "    )    \n",
    "    return encoding"
   ]
  },
  {
   "cell_type": "code",
   "execution_count": 26,
   "id": "12e87f04-a680-44c8-b493-7b6760c5620e",
   "metadata": {},
   "outputs": [
    {
     "data": {
      "text/plain": [
       "dict_keys(['input_ids', 'token_type_ids', 'attention_mask'])"
      ]
     },
     "execution_count": 26,
     "metadata": {},
     "output_type": "execute_result"
    }
   ],
   "source": [
    "X_train_encoding = bert_encoding(X_train)\n",
    "X_valid_encoding = bert_encoding(X_valid)\n",
    "df_test_encoding =  bert_encoding(df_test)\n",
    "\n",
    "X_train_encoding.keys()"
   ]
  },
  {
   "cell_type": "code",
   "execution_count": 27,
   "id": "dfb70c12-0c23-4675-a102-81ad961bfb48",
   "metadata": {},
   "outputs": [
    {
     "name": "stdout",
     "output_type": "stream",
     "text": [
      " The shape of the tensor X_train_encoding.input_ids:  (9696, 259)\n",
      " The shape of the tensor X_valid_encoding.input_ids:  (2424, 259)\n",
      " The shape of the tensor df_test_encoding.input_ids:  (5195, 259)\n"
     ]
    }
   ],
   "source": [
    "print(f' The shape of the tensor X_train_encoding.input_ids:  {X_train_encoding.input_ids.shape}')\n",
    "print(f' The shape of the tensor X_valid_encoding.input_ids:  {X_valid_encoding.input_ids.shape}')\n",
    "print(f' The shape of the tensor df_test_encoding.input_ids:  {df_test_encoding.input_ids.shape}')"
   ]
  },
  {
   "cell_type": "code",
   "execution_count": null,
   "id": "e1178c18-13cc-4a3b-8092-8ac800d25d21",
   "metadata": {},
   "outputs": [],
   "source": []
  },
  {
   "cell_type": "code",
   "execution_count": 28,
   "id": "9c19df2c-954c-489e-ad85-ac7d7bfddc84",
   "metadata": {},
   "outputs": [],
   "source": [
    "features_tuple_train = (X_train_encoding.input_ids, X_train_encoding.attention_mask, X_train_encoding.token_type_ids)\n",
    "features_tuple_valid = (X_valid_encoding.input_ids, X_valid_encoding.attention_mask, X_valid_encoding.token_type_ids)\n",
    "\n",
    "feature_tuple_test = (df_test_encoding.input_ids, df_test_encoding.attention_mask, df_test_encoding.token_type_ids)"
   ]
  },
  {
   "cell_type": "code",
   "execution_count": 29,
   "id": "76025f1e-587d-4ca3-a82c-c38e0c8f67b0",
   "metadata": {},
   "outputs": [
    {
     "name": "stdout",
     "output_type": "stream",
     "text": [
      "((TensorSpec(shape=(259,), dtype=tf.int32, name=None), TensorSpec(shape=(259,), dtype=tf.int32, name=None), TensorSpec(shape=(259,), dtype=tf.int32, name=None)), TensorSpec(shape=(), dtype=tf.int64, name=None))\n",
      "((TensorSpec(shape=(259,), dtype=tf.int32, name=None), TensorSpec(shape=(259,), dtype=tf.int32, name=None), TensorSpec(shape=(259,), dtype=tf.int32, name=None)), TensorSpec(shape=(), dtype=tf.int64, name=None))\n"
     ]
    }
   ],
   "source": [
    "training_dataset = tf.data.Dataset.from_tensor_slices(((features_tuple_train), y_train))\n",
    "valid_dataset = tf.data.Dataset.from_tensor_slices(((features_tuple_valid),y_valid))    \n",
    "print( training_dataset.element_spec)\n",
    "print(valid_dataset.element_spec)"
   ]
  },
  {
   "cell_type": "code",
   "execution_count": 30,
   "id": "919d07cd-492e-409e-a7ea-fb96b77c6925",
   "metadata": {},
   "outputs": [],
   "source": [
    "training_dataset = training_dataset.batch(BATCH_SIZE) \n",
    "training_dataset = training_dataset.cache().prefetch(tf.data.AUTOTUNE)\n",
    "\n",
    "valid_dataset = valid_dataset.batch(BATCH_SIZE) \n",
    "valid_dataset = valid_dataset.cache().prefetch(tf.data.AUTOTUNE)"
   ]
  },
  {
   "cell_type": "code",
   "execution_count": 62,
   "id": "c91097b5-574b-4bec-9b04-3fad6e75aebb",
   "metadata": {},
   "outputs": [
    {
     "data": {
      "text/plain": [
       "((TensorSpec(shape=(None, 259), dtype=tf.int32, name=None),\n",
       "  TensorSpec(shape=(None, 259), dtype=tf.int32, name=None),\n",
       "  TensorSpec(shape=(None, 259), dtype=tf.int32, name=None)),\n",
       " TensorSpec(shape=(None,), dtype=tf.int64, name=None))"
      ]
     },
     "execution_count": 62,
     "metadata": {},
     "output_type": "execute_result"
    }
   ],
   "source": [
    "training_dataset.element_spec"
   ]
  },
  {
   "cell_type": "code",
   "execution_count": 31,
   "id": "a1f269e4-bfff-4b5c-ad99-41e91ddd0008",
   "metadata": {},
   "outputs": [
    {
     "name": "stdout",
     "output_type": "stream",
     "text": [
      "tf.Tensor(606, shape=(), dtype=int64)\n",
      "tf.Tensor(152, shape=(), dtype=int64)\n"
     ]
    }
   ],
   "source": [
    "print(training_dataset.cardinality())\n",
    "print(valid_dataset.cardinality())"
   ]
  },
  {
   "cell_type": "code",
   "execution_count": null,
   "id": "48bea52f-261d-43c9-82ac-a2f44c19c8f1",
   "metadata": {},
   "outputs": [],
   "source": [
    "testing_dataset = tf.data.Dataset.from_tensor_slices(feature_tuple_test)\n",
    "\n",
    "testing_dataset = testing_dataset.batch(BATCH_SIZE) \n",
    "testing_dataset = testing_dataset.map(lambda x1, x2, x3: ((x1, x2, x3),))\n",
    "testing_dataset = testing_dataset.cache().prefetch(tf.data.AUTOTUNE)"
   ]
  },
  {
   "cell_type": "code",
   "execution_count": 61,
   "id": "019c7793-9051-4d9c-bbc0-9992250c98ef",
   "metadata": {},
   "outputs": [
    {
     "data": {
      "text/plain": [
       "((TensorSpec(shape=(None, 259), dtype=tf.int32, name=None),\n",
       "  TensorSpec(shape=(None, 259), dtype=tf.int32, name=None),\n",
       "  TensorSpec(shape=(None, 259), dtype=tf.int32, name=None)),)"
      ]
     },
     "execution_count": 61,
     "metadata": {},
     "output_type": "execute_result"
    }
   ],
   "source": [
    "testing_dataset.element_spec"
   ]
  },
  {
   "cell_type": "code",
   "execution_count": 34,
   "id": "54498094-1285-40ac-b338-0449c785ad2c",
   "metadata": {},
   "outputs": [
    {
     "data": {
      "text/plain": [
       "325"
      ]
     },
     "execution_count": 34,
     "metadata": {},
     "output_type": "execute_result"
    }
   ],
   "source": [
    "testing_dataset.cardinality().numpy()"
   ]
  },
  {
   "cell_type": "markdown",
   "id": "6ced4b29-e805-4c6a-95fc-42a49e278edd",
   "metadata": {},
   "source": [
    "###  5. Creating model"
   ]
  },
  {
   "cell_type": "code",
   "execution_count": null,
   "id": "67b38633-82dc-4b05-bcaf-5f99fbc38814",
   "metadata": {},
   "outputs": [],
   "source": [
    "# Определение модели и входных данных\n",
    "model_name = 'bert-base-multilingual-cased'\n",
    "bert_encoder = TFBertModel.from_pretrained(model_name)\n",
    "bert_encoder.trainable = True\n",
    "# Определение кастомного слоя\n",
    "class BertLayer(tf.keras.layers.Layer):\n",
    "    def __init__(self, bert_model, **kwargs):\n",
    "        super(BertLayer, self).__init__(**kwargs)\n",
    "        self.bert_model = bert_model\n",
    "    \n",
    "    def call(self, inputs):\n",
    "        input_ids, attention_mask, token_type_ids = inputs\n",
    "        return self.bert_model(\n",
    "            input_ids=input_ids,\n",
    "            attention_mask=attention_mask,\n",
    "            token_type_ids=token_type_ids\n",
    "        ).last_hidden_state\n",
    "\n",
    "def create_model():\n",
    "   # Определение входных данных\n",
    "    input_ids = tf.keras.Input(shape=(max_length,), dtype=tf.int32)\n",
    "    attention_mask = tf.keras.Input(shape=(max_length,), dtype=tf.int32)\n",
    "    token_type_ids = tf.keras.Input(shape=(max_length,), dtype=tf.int32)\n",
    "   \n",
    "   # Создание кастомного слоя\n",
    "    bert_layer = BertLayer(bert_encoder)\n",
    "    embeddings = bert_layer([input_ids, attention_mask, token_type_ids])\n",
    "    \n",
    "    \n",
    "    \n",
    "    attention_out = layers.MultiHeadAttention(\n",
    "        num_heads=8,   # Количество голов внимания\n",
    "        key_dim=768,   # Размерность ключей и значений (тот же размер, что и эмбеддингов)\n",
    "        dropout=0.1    # Вероятность дропаута (опционально)\n",
    "     )(embeddings, embeddings)  # Используем один и тот же тензор для query, key и value\n",
    "    \n",
    "    attention_out = layers.LayerNormalization(epsilon=1e-6)(attention_out + embeddings)\n",
    "\n",
    "    \n",
    "    model = layers.Dense(units=520, activation='relu')(attention_out[:,0,:])\n",
    "    model= layers.Dropout(0.3)(model)\n",
    "    model = layers.Dense(units=260, activation='relu')(model)\n",
    "    model = layers.Dense(units=120, activation='relu')(model)\n",
    "    model = layers.Dropout(0.2)(model)\n",
    "    model = layers.Dense(units=60, activation='relu')(model)\n",
    "    model = layers.Dense(units=30, activation='relu')(model)    \n",
    "    outputs = layers.Dense(units=3, activation='softmax')(model)\n",
    "\n",
    "  # Определение модели\n",
    "    model = tf.keras.Model(inputs=(input_ids, attention_mask, token_type_ids), outputs=outputs)\n",
    "    return model\n"
   ]
  },
  {
   "cell_type": "code",
   "execution_count": 40,
   "id": "291f5667-f68e-449d-b865-ffbbf778ec92",
   "metadata": {},
   "outputs": [],
   "source": [
    "\n",
    "with strategy.scope():\n",
    "    model =create_model()\n",
    "    optimizer = Adam(learning_rate=0.0005)\n",
    "    model.compile(optimizer=optimizer, loss='sparse_categorical_crossentropy', metrics=['accuracy'])"
   ]
  },
  {
   "cell_type": "code",
   "execution_count": 41,
   "id": "5337a0d6-8646-455c-9bbf-b0a47e6b7fce",
   "metadata": {},
   "outputs": [
    {
     "data": {
      "text/html": [
       "<pre style=\"white-space:pre;overflow-x:auto;line-height:normal;font-family:Menlo,'DejaVu Sans Mono',consolas,'Courier New',monospace\"><span style=\"font-weight: bold\">Model: \"functional_1\"</span>\n",
       "</pre>\n"
      ],
      "text/plain": [
       "\u001b[1mModel: \"functional_1\"\u001b[0m\n"
      ]
     },
     "metadata": {},
     "output_type": "display_data"
    },
    {
     "data": {
      "text/html": [
       "<pre style=\"white-space:pre;overflow-x:auto;line-height:normal;font-family:Menlo,'DejaVu Sans Mono',consolas,'Courier New',monospace\">┏━━━━━━━━━━━━━━━━━━━━━━━━━━━━━━━┳━━━━━━━━━━━━━━━━━━━━━━━━━━━┳━━━━━━━━━━━━━━━━━┳━━━━━━━━━━━━━━━━━━━━━━━━━━━━┓\n",
       "┃<span style=\"font-weight: bold\"> Layer (type)                  </span>┃<span style=\"font-weight: bold\"> Output Shape              </span>┃<span style=\"font-weight: bold\">         Param # </span>┃<span style=\"font-weight: bold\"> Connected to               </span>┃\n",
       "┡━━━━━━━━━━━━━━━━━━━━━━━━━━━━━━━╇━━━━━━━━━━━━━━━━━━━━━━━━━━━╇━━━━━━━━━━━━━━━━━╇━━━━━━━━━━━━━━━━━━━━━━━━━━━━┩\n",
       "│ input_layer_3 (<span style=\"color: #0087ff; text-decoration-color: #0087ff\">InputLayer</span>)    │ (<span style=\"color: #00d7ff; text-decoration-color: #00d7ff\">None</span>, <span style=\"color: #00af00; text-decoration-color: #00af00\">259</span>)               │               <span style=\"color: #00af00; text-decoration-color: #00af00\">0</span> │ -                          │\n",
       "├───────────────────────────────┼───────────────────────────┼─────────────────┼────────────────────────────┤\n",
       "│ input_layer_4 (<span style=\"color: #0087ff; text-decoration-color: #0087ff\">InputLayer</span>)    │ (<span style=\"color: #00d7ff; text-decoration-color: #00d7ff\">None</span>, <span style=\"color: #00af00; text-decoration-color: #00af00\">259</span>)               │               <span style=\"color: #00af00; text-decoration-color: #00af00\">0</span> │ -                          │\n",
       "├───────────────────────────────┼───────────────────────────┼─────────────────┼────────────────────────────┤\n",
       "│ input_layer_5 (<span style=\"color: #0087ff; text-decoration-color: #0087ff\">InputLayer</span>)    │ (<span style=\"color: #00d7ff; text-decoration-color: #00d7ff\">None</span>, <span style=\"color: #00af00; text-decoration-color: #00af00\">259</span>)               │               <span style=\"color: #00af00; text-decoration-color: #00af00\">0</span> │ -                          │\n",
       "├───────────────────────────────┼───────────────────────────┼─────────────────┼────────────────────────────┤\n",
       "│ bert_layer_1 (<span style=\"color: #0087ff; text-decoration-color: #0087ff\">BertLayer</span>)      │ (<span style=\"color: #00d7ff; text-decoration-color: #00d7ff\">None</span>, <span style=\"color: #00af00; text-decoration-color: #00af00\">259</span>, <span style=\"color: #00af00; text-decoration-color: #00af00\">768</span>)          │               <span style=\"color: #00af00; text-decoration-color: #00af00\">0</span> │ input_layer_3[<span style=\"color: #00af00; text-decoration-color: #00af00\">0</span>][<span style=\"color: #00af00; text-decoration-color: #00af00\">0</span>],       │\n",
       "│                               │                           │                 │ input_layer_4[<span style=\"color: #00af00; text-decoration-color: #00af00\">0</span>][<span style=\"color: #00af00; text-decoration-color: #00af00\">0</span>],       │\n",
       "│                               │                           │                 │ input_layer_5[<span style=\"color: #00af00; text-decoration-color: #00af00\">0</span>][<span style=\"color: #00af00; text-decoration-color: #00af00\">0</span>]        │\n",
       "├───────────────────────────────┼───────────────────────────┼─────────────────┼────────────────────────────┤\n",
       "│ get_item_1 (<span style=\"color: #0087ff; text-decoration-color: #0087ff\">GetItem</span>)          │ (<span style=\"color: #00d7ff; text-decoration-color: #00d7ff\">None</span>, <span style=\"color: #00af00; text-decoration-color: #00af00\">768</span>)               │               <span style=\"color: #00af00; text-decoration-color: #00af00\">0</span> │ bert_layer_1[<span style=\"color: #00af00; text-decoration-color: #00af00\">0</span>][<span style=\"color: #00af00; text-decoration-color: #00af00\">0</span>]         │\n",
       "├───────────────────────────────┼───────────────────────────┼─────────────────┼────────────────────────────┤\n",
       "│ dense_3 (<span style=\"color: #0087ff; text-decoration-color: #0087ff\">Dense</span>)               │ (<span style=\"color: #00d7ff; text-decoration-color: #00d7ff\">None</span>, <span style=\"color: #00af00; text-decoration-color: #00af00\">16</span>)                │          <span style=\"color: #00af00; text-decoration-color: #00af00\">12,304</span> │ get_item_1[<span style=\"color: #00af00; text-decoration-color: #00af00\">0</span>][<span style=\"color: #00af00; text-decoration-color: #00af00\">0</span>]           │\n",
       "├───────────────────────────────┼───────────────────────────┼─────────────────┼────────────────────────────┤\n",
       "│ dense_4 (<span style=\"color: #0087ff; text-decoration-color: #0087ff\">Dense</span>)               │ (<span style=\"color: #00d7ff; text-decoration-color: #00d7ff\">None</span>, <span style=\"color: #00af00; text-decoration-color: #00af00\">8</span>)                 │             <span style=\"color: #00af00; text-decoration-color: #00af00\">136</span> │ dense_3[<span style=\"color: #00af00; text-decoration-color: #00af00\">0</span>][<span style=\"color: #00af00; text-decoration-color: #00af00\">0</span>]              │\n",
       "├───────────────────────────────┼───────────────────────────┼─────────────────┼────────────────────────────┤\n",
       "│ dense_5 (<span style=\"color: #0087ff; text-decoration-color: #0087ff\">Dense</span>)               │ (<span style=\"color: #00d7ff; text-decoration-color: #00d7ff\">None</span>, <span style=\"color: #00af00; text-decoration-color: #00af00\">3</span>)                 │              <span style=\"color: #00af00; text-decoration-color: #00af00\">27</span> │ dense_4[<span style=\"color: #00af00; text-decoration-color: #00af00\">0</span>][<span style=\"color: #00af00; text-decoration-color: #00af00\">0</span>]              │\n",
       "└───────────────────────────────┴───────────────────────────┴─────────────────┴────────────────────────────┘\n",
       "</pre>\n"
      ],
      "text/plain": [
       "┏━━━━━━━━━━━━━━━━━━━━━━━━━━━━━━━┳━━━━━━━━━━━━━━━━━━━━━━━━━━━┳━━━━━━━━━━━━━━━━━┳━━━━━━━━━━━━━━━━━━━━━━━━━━━━┓\n",
       "┃\u001b[1m \u001b[0m\u001b[1mLayer (type)                 \u001b[0m\u001b[1m \u001b[0m┃\u001b[1m \u001b[0m\u001b[1mOutput Shape             \u001b[0m\u001b[1m \u001b[0m┃\u001b[1m \u001b[0m\u001b[1m        Param #\u001b[0m\u001b[1m \u001b[0m┃\u001b[1m \u001b[0m\u001b[1mConnected to              \u001b[0m\u001b[1m \u001b[0m┃\n",
       "┡━━━━━━━━━━━━━━━━━━━━━━━━━━━━━━━╇━━━━━━━━━━━━━━━━━━━━━━━━━━━╇━━━━━━━━━━━━━━━━━╇━━━━━━━━━━━━━━━━━━━━━━━━━━━━┩\n",
       "│ input_layer_3 (\u001b[38;5;33mInputLayer\u001b[0m)    │ (\u001b[38;5;45mNone\u001b[0m, \u001b[38;5;34m259\u001b[0m)               │               \u001b[38;5;34m0\u001b[0m │ -                          │\n",
       "├───────────────────────────────┼───────────────────────────┼─────────────────┼────────────────────────────┤\n",
       "│ input_layer_4 (\u001b[38;5;33mInputLayer\u001b[0m)    │ (\u001b[38;5;45mNone\u001b[0m, \u001b[38;5;34m259\u001b[0m)               │               \u001b[38;5;34m0\u001b[0m │ -                          │\n",
       "├───────────────────────────────┼───────────────────────────┼─────────────────┼────────────────────────────┤\n",
       "│ input_layer_5 (\u001b[38;5;33mInputLayer\u001b[0m)    │ (\u001b[38;5;45mNone\u001b[0m, \u001b[38;5;34m259\u001b[0m)               │               \u001b[38;5;34m0\u001b[0m │ -                          │\n",
       "├───────────────────────────────┼───────────────────────────┼─────────────────┼────────────────────────────┤\n",
       "│ bert_layer_1 (\u001b[38;5;33mBertLayer\u001b[0m)      │ (\u001b[38;5;45mNone\u001b[0m, \u001b[38;5;34m259\u001b[0m, \u001b[38;5;34m768\u001b[0m)          │               \u001b[38;5;34m0\u001b[0m │ input_layer_3[\u001b[38;5;34m0\u001b[0m][\u001b[38;5;34m0\u001b[0m],       │\n",
       "│                               │                           │                 │ input_layer_4[\u001b[38;5;34m0\u001b[0m][\u001b[38;5;34m0\u001b[0m],       │\n",
       "│                               │                           │                 │ input_layer_5[\u001b[38;5;34m0\u001b[0m][\u001b[38;5;34m0\u001b[0m]        │\n",
       "├───────────────────────────────┼───────────────────────────┼─────────────────┼────────────────────────────┤\n",
       "│ get_item_1 (\u001b[38;5;33mGetItem\u001b[0m)          │ (\u001b[38;5;45mNone\u001b[0m, \u001b[38;5;34m768\u001b[0m)               │               \u001b[38;5;34m0\u001b[0m │ bert_layer_1[\u001b[38;5;34m0\u001b[0m][\u001b[38;5;34m0\u001b[0m]         │\n",
       "├───────────────────────────────┼───────────────────────────┼─────────────────┼────────────────────────────┤\n",
       "│ dense_3 (\u001b[38;5;33mDense\u001b[0m)               │ (\u001b[38;5;45mNone\u001b[0m, \u001b[38;5;34m16\u001b[0m)                │          \u001b[38;5;34m12,304\u001b[0m │ get_item_1[\u001b[38;5;34m0\u001b[0m][\u001b[38;5;34m0\u001b[0m]           │\n",
       "├───────────────────────────────┼───────────────────────────┼─────────────────┼────────────────────────────┤\n",
       "│ dense_4 (\u001b[38;5;33mDense\u001b[0m)               │ (\u001b[38;5;45mNone\u001b[0m, \u001b[38;5;34m8\u001b[0m)                 │             \u001b[38;5;34m136\u001b[0m │ dense_3[\u001b[38;5;34m0\u001b[0m][\u001b[38;5;34m0\u001b[0m]              │\n",
       "├───────────────────────────────┼───────────────────────────┼─────────────────┼────────────────────────────┤\n",
       "│ dense_5 (\u001b[38;5;33mDense\u001b[0m)               │ (\u001b[38;5;45mNone\u001b[0m, \u001b[38;5;34m3\u001b[0m)                 │              \u001b[38;5;34m27\u001b[0m │ dense_4[\u001b[38;5;34m0\u001b[0m][\u001b[38;5;34m0\u001b[0m]              │\n",
       "└───────────────────────────────┴───────────────────────────┴─────────────────┴────────────────────────────┘\n"
      ]
     },
     "metadata": {},
     "output_type": "display_data"
    },
    {
     "data": {
      "text/html": [
       "<pre style=\"white-space:pre;overflow-x:auto;line-height:normal;font-family:Menlo,'DejaVu Sans Mono',consolas,'Courier New',monospace\"><span style=\"font-weight: bold\"> Total params: </span><span style=\"color: #00af00; text-decoration-color: #00af00\">12,467</span> (48.70 KB)\n",
       "</pre>\n"
      ],
      "text/plain": [
       "\u001b[1m Total params: \u001b[0m\u001b[38;5;34m12,467\u001b[0m (48.70 KB)\n"
      ]
     },
     "metadata": {},
     "output_type": "display_data"
    },
    {
     "data": {
      "text/html": [
       "<pre style=\"white-space:pre;overflow-x:auto;line-height:normal;font-family:Menlo,'DejaVu Sans Mono',consolas,'Courier New',monospace\"><span style=\"font-weight: bold\"> Trainable params: </span><span style=\"color: #00af00; text-decoration-color: #00af00\">12,467</span> (48.70 KB)\n",
       "</pre>\n"
      ],
      "text/plain": [
       "\u001b[1m Trainable params: \u001b[0m\u001b[38;5;34m12,467\u001b[0m (48.70 KB)\n"
      ]
     },
     "metadata": {},
     "output_type": "display_data"
    },
    {
     "data": {
      "text/html": [
       "<pre style=\"white-space:pre;overflow-x:auto;line-height:normal;font-family:Menlo,'DejaVu Sans Mono',consolas,'Courier New',monospace\"><span style=\"font-weight: bold\"> Non-trainable params: </span><span style=\"color: #00af00; text-decoration-color: #00af00\">0</span> (0.00 B)\n",
       "</pre>\n"
      ],
      "text/plain": [
       "\u001b[1m Non-trainable params: \u001b[0m\u001b[38;5;34m0\u001b[0m (0.00 B)\n"
      ]
     },
     "metadata": {},
     "output_type": "display_data"
    }
   ],
   "source": [
    "model.summary()"
   ]
  },
  {
   "cell_type": "code",
   "execution_count": 42,
   "id": "4d08edae-8df4-48e2-81a4-f9a4aef784fe",
   "metadata": {},
   "outputs": [
    {
     "name": "stdout",
     "output_type": "stream",
     "text": [
      "Epoch 1/2\n",
      "\u001b[1m3/3\u001b[0m \u001b[32m━━━━━━━━━━━━━━━━━━━━\u001b[0m\u001b[37m\u001b[0m \u001b[1m55s\u001b[0m 19s/step - accuracy: 0.2969 - loss: 1.2304 - val_accuracy: 0.2500 - val_loss: 1.1693\n",
      "Epoch 2/2\n",
      "\u001b[1m3/3\u001b[0m \u001b[32m━━━━━━━━━━━━━━━━━━━━\u001b[0m\u001b[37m\u001b[0m \u001b[1m44s\u001b[0m 18s/step - accuracy: 0.2995 - loss: 1.1166 - val_accuracy: 0.2708 - val_loss: 1.1062\n"
     ]
    },
    {
     "data": {
      "text/plain": [
       "<keras.src.callbacks.history.History at 0x22968f873e0>"
      ]
     },
     "execution_count": 42,
     "metadata": {},
     "output_type": "execute_result"
    }
   ],
   "source": [
    "EPOCH = 35\n",
    "\n",
    "try:\n",
    "model.fit(training_dataset, validation_data=valid_dataset, \n",
    "          epochs = EPOCH, verbose = 2,\n",
    "          steps_per_epoch=training_dataset.cardinality().numpy(),\n",
    "          validation_steps=valid_dataset.cardinality().numpy()\n",
    "         )\n",
    "except:\n",
    "model.fit(training_dataset, validation_data=valid_dataset, \n",
    "          EPOCH = 2, verbose = 2\n",
    "           )"
   ]
  },
  {
   "cell_type": "code",
   "execution_count": 83,
   "id": "ec457a52-26ec-4c0a-b398-a5b17bc64ca0",
   "metadata": {},
   "outputs": [
    {
     "data": {
      "text/plain": [
       "606"
      ]
     },
     "execution_count": 83,
     "metadata": {},
     "output_type": "execute_result"
    }
   ],
   "source": [
    "training_dataset.cardinality().numpy()"
   ]
  },
  {
   "cell_type": "markdown",
   "id": "e18453ed-48db-4b99-a1ac-f330d8e8b5d5",
   "metadata": {},
   "source": [
    "### 6. Tasting date"
   ]
  },
  {
   "cell_type": "code",
   "execution_count": 74,
   "id": "92334b42-05a6-41e8-9c85-8fc803b12391",
   "metadata": {},
   "outputs": [
    {
     "data": {
      "text/plain": [
       "True"
      ]
     },
     "execution_count": 74,
     "metadata": {},
     "output_type": "execute_result"
    }
   ],
   "source": [
    "df_example.id.equals(df_test.id)"
   ]
  },
  {
   "cell_type": "code",
   "execution_count": 75,
   "id": "218e88b2-edbf-4d1d-870c-ae316e8ec39e",
   "metadata": {},
   "outputs": [
    {
     "name": "stdout",
     "output_type": "stream",
     "text": [
      "\u001b[1m10/10\u001b[0m \u001b[32m━━━━━━━━━━━━━━━━━━━━\u001b[0m\u001b[37m\u001b[0m \u001b[1m76s\u001b[0m 8s/step\n"
     ]
    }
   ],
   "source": [
    "pred =model.predict(testing_dataset)"
   ]
  },
  {
   "cell_type": "code",
   "execution_count": 81,
   "id": "432478f1-55c2-406d-983c-bd12b82d6b89",
   "metadata": {},
   "outputs": [
    {
     "data": {
      "text/html": [
       "<div>\n",
       "<style scoped>\n",
       "    .dataframe tbody tr th:only-of-type {\n",
       "        vertical-align: middle;\n",
       "    }\n",
       "\n",
       "    .dataframe tbody tr th {\n",
       "        vertical-align: top;\n",
       "    }\n",
       "\n",
       "    .dataframe thead th {\n",
       "        text-align: right;\n",
       "    }\n",
       "</style>\n",
       "<table border=\"1\" class=\"dataframe\">\n",
       "  <thead>\n",
       "    <tr style=\"text-align: right;\">\n",
       "      <th></th>\n",
       "      <th>id</th>\n",
       "      <th>prediction</th>\n",
       "    </tr>\n",
       "  </thead>\n",
       "  <tbody>\n",
       "    <tr>\n",
       "      <th>0</th>\n",
       "      <td>c6d58c3f69</td>\n",
       "      <td>1</td>\n",
       "    </tr>\n",
       "    <tr>\n",
       "      <th>1</th>\n",
       "      <td>cefcc82292</td>\n",
       "      <td>1</td>\n",
       "    </tr>\n",
       "    <tr>\n",
       "      <th>2</th>\n",
       "      <td>e98005252c</td>\n",
       "      <td>1</td>\n",
       "    </tr>\n",
       "  </tbody>\n",
       "</table>\n",
       "</div>"
      ],
      "text/plain": [
       "           id  prediction\n",
       "0  c6d58c3f69           1\n",
       "1  cefcc82292           1\n",
       "2  e98005252c           1"
      ]
     },
     "execution_count": 81,
     "metadata": {},
     "output_type": "execute_result"
    }
   ],
   "source": [
    "df_example.head(3)"
   ]
  },
  {
   "cell_type": "code",
   "execution_count": null,
   "id": "7fbfbf6f-bb48-43bb-af25-73138f3a86de",
   "metadata": {},
   "outputs": [],
   "source": []
  },
  {
   "cell_type": "code",
   "execution_count": 80,
   "id": "e13651bb-b4b2-4abd-8003-2765ebe25650",
   "metadata": {},
   "outputs": [],
   "source": [
    "submission = df_example.copy()\n",
    "submission.prediction = pred.argmax(axis=1)\n",
    "\n",
    "submission.to_csv('submission.csv', index=False)"
   ]
  },
  {
   "cell_type": "code",
   "execution_count": null,
   "id": "b1fdb949-f4df-46ca-b404-54e7d948d233",
   "metadata": {},
   "outputs": [],
   "source": []
  }
 ],
 "metadata": {
  "kernelspec": {
   "display_name": "Python 3 (ipykernel)",
   "language": "python",
   "name": "python3"
  },
  "language_info": {
   "codemirror_mode": {
    "name": "ipython",
    "version": 3
   },
   "file_extension": ".py",
   "mimetype": "text/x-python",
   "name": "python",
   "nbconvert_exporter": "python",
   "pygments_lexer": "ipython3",
   "version": "3.12.5"
  }
 },
 "nbformat": 4,
 "nbformat_minor": 5
}
